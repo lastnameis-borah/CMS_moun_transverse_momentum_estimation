{
 "cells": [
  {
   "cell_type": "markdown",
   "metadata": {
    "papermill": {
     "duration": 0.005173,
     "end_time": "2020-08-28T10:23:21.908212",
     "exception": false,
     "start_time": "2020-08-28T10:23:21.903039",
     "status": "completed"
    },
    "tags": []
   },
   "source": [
    "## Install required libraries"
   ]
  },
  {
   "cell_type": "code",
   "execution_count": 1,
   "metadata": {
    "execution": {
     "iopub.execute_input": "2020-08-28T10:23:21.952256Z",
     "iopub.status.busy": "2020-08-28T10:23:21.931536Z",
     "iopub.status.idle": "2020-08-28T10:25:31.261868Z",
     "shell.execute_reply": "2020-08-28T10:25:31.262512Z"
    },
    "papermill": {
     "duration": 129.349845,
     "end_time": "2020-08-28T10:25:31.262780",
     "exception": false,
     "start_time": "2020-08-28T10:23:21.912935",
     "status": "completed"
    },
    "tags": []
   },
   "outputs": [],
   "source": [
    "! pip -qq install torch==1.5.1+cpu torchvision==0.6.1+cpu -f https://download.pytorch.org/whl/torch_stable.html\n",
    "! pip -qq install torch-scatter==latest+cpu -f https://pytorch-geometric.com/whl/torch-1.5.0.html\n",
    "! pip -qq install torch-sparse==latest+cpu -f https://pytorch-geometric.com/whl/torch-1.5.0.html\n",
    "! pip -qq install torch-cluster==latest+cpu -f https://pytorch-geometric.com/whl/torch-1.5.0.html\n",
    "! pip -qq install torch-spline-conv==latest+cpu -f https://pytorch-geometric.com/whl/torch-1.5.0.html\n",
    "! pip -qq install torch-geometric\n",
    "! pip -qq install focal-loss"
   ]
  },
  {
   "cell_type": "markdown",
   "metadata": {
    "papermill": {
     "duration": 0.003769,
     "end_time": "2020-08-28T10:25:31.271201",
     "exception": false,
     "start_time": "2020-08-28T10:25:31.267432",
     "status": "completed"
    },
    "tags": []
   },
   "source": [
    "## Clone Reporitory"
   ]
  },
  {
   "cell_type": "code",
   "execution_count": 2,
   "metadata": {
    "_cell_guid": "b1076dfc-b9ad-4769-8c92-a6c4dae69d19",
    "_uuid": "8f2839f25d086af736a60e9eeb907d3b93b6e0e5",
    "execution": {
     "iopub.execute_input": "2020-08-28T10:25:31.294345Z",
     "iopub.status.busy": "2020-08-28T10:25:31.290660Z",
     "iopub.status.idle": "2020-08-28T10:25:33.133618Z",
     "shell.execute_reply": "2020-08-28T10:25:33.132902Z"
    },
    "papermill": {
     "duration": 1.855151,
     "end_time": "2020-08-28T10:25:33.133751",
     "exception": false,
     "start_time": "2020-08-28T10:25:31.278600",
     "status": "completed"
    },
    "tags": []
   },
   "outputs": [
    {
     "name": "stdout",
     "output_type": "stream",
     "text": [
      "Cloning into 'CMS_muon_transverse_momentum_estimation'...\r\n",
      "remote: Enumerating objects: 37, done.\u001b[K\r\n",
      "remote: Counting objects: 100% (37/37), done.\u001b[K\r\n",
      "remote: Compressing objects: 100% (27/27), done.\u001b[K\r\n",
      "remote: Total 37 (delta 18), reused 27 (delta 8), pack-reused 0\u001b[K\r\n",
      "Unpacking objects: 100% (37/37), done.\r\n",
      "/kaggle/working/CMS_muon_transverse_momentum_estimation\n"
     ]
    }
   ],
   "source": [
    "!git clone 'https://github.com/PRATEEKKUMARAGNIHOTRI/CMS_muon_transverse_momentum_estimation.git'\n",
    "%cd './CMS_muon_transverse_momentum_estimation'"
   ]
  },
  {
   "cell_type": "markdown",
   "metadata": {
    "papermill": {
     "duration": 0.004562,
     "end_time": "2020-08-28T10:25:33.143235",
     "exception": false,
     "start_time": "2020-08-28T10:25:33.138673",
     "status": "completed"
    },
    "tags": []
   },
   "source": [
    "## Execute main.py\n",
    "**path** - path of the csv file<br>\n",
    "**dataset** - select from ('prompt_new', 'displaced', 'prompt_old')<br>\n",
    "**predict** - select from ('pT', '1/pT', 'pT_classes')<br>\n",
    "**model** - select from ('FCNN', 'CNN', 'GNN')<br>\n",
    "**epochs** - max number of epochs to train the models in a fold<br>\n",
    "**batch_size** - batch size used for training<br>\n",
    "**folds** - Comma(,) seperated string denoting folds to run the models(ex - \"0,1\")<br>\n",
    "**results** - Path of the folder to save results"
   ]
  },
  {
   "cell_type": "code",
   "execution_count": 3,
   "metadata": {
    "_cell_guid": "79c7e3d0-c299-4dcb-8224-4455121ee9b0",
    "_uuid": "d629ff2d2480ee46fbb7e2d37f6b5fab8052498a",
    "execution": {
     "iopub.execute_input": "2020-08-28T10:25:33.164820Z",
     "iopub.status.busy": "2020-08-28T10:25:33.163686Z",
     "iopub.status.idle": "2020-08-28T11:16:10.819495Z",
     "shell.execute_reply": "2020-08-28T11:16:10.818571Z"
    },
    "papermill": {
     "duration": 3037.671448,
     "end_time": "2020-08-28T11:16:10.819693",
     "exception": false,
     "start_time": "2020-08-28T10:25:33.148245",
     "status": "completed"
    },
    "tags": []
   },
   "outputs": [],
   "source": [
    "!python main.py --path='/kaggle/input/cmsnewsamples/new-smaples.csv' \\\n",
    "                --dataset='prompt_new'\\\n",
    "                --predict='pT'\\\n",
    "                --model='FCNN'\\\n",
    "                --epochs=50 \\\n",
    "                --batch_size=512\\\n",
    "                --folds=\"0,1,2,3,4,5,6,7,8,9\" \\\n",
    "                --results='/kaggle/working/results'"
   ]
  },
  {
   "cell_type": "code",
   "execution_count": null,
   "metadata": {
    "papermill": {
     "duration": 0.004264,
     "end_time": "2020-08-28T11:16:10.829918",
     "exception": false,
     "start_time": "2020-08-28T11:16:10.825654",
     "status": "completed"
    },
    "tags": []
   },
   "outputs": [],
   "source": []
  }
 ],
 "metadata": {
  "kernelspec": {
   "display_name": "Python 3",
   "language": "python",
   "name": "python3"
  },
  "language_info": {
   "codemirror_mode": {
    "name": "ipython",
    "version": 3
   },
   "file_extension": ".py",
   "mimetype": "text/x-python",
   "name": "python",
   "nbconvert_exporter": "python",
   "pygments_lexer": "ipython3",
   "version": "3.8.3"
  },
  "papermill": {
   "duration": 3174.429942,
   "end_time": "2020-08-28T11:16:10.943254",
   "environment_variables": {},
   "exception": null,
   "input_path": "__notebook__.ipynb",
   "output_path": "__notebook__.ipynb",
   "parameters": {},
   "start_time": "2020-08-28T10:23:16.513312",
   "version": "2.1.0"
  }
 },
 "nbformat": 4,
 "nbformat_minor": 4
}
